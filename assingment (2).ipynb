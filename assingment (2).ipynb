{
 "cells": [
  {
   "cell_type": "raw",
   "id": "c108741c-d27f-4b7b-b892-195b8d2e1ad8",
   "metadata": {},
   "source": [
    "1. Count Unique Elements: Given a list, create a dictionary that counts the occurrences of each\n",
    "unique element."
   ]
  },
  {
   "cell_type": "code",
   "execution_count": 13,
   "id": "d0cd310a-aa5c-40ad-a65a-334c2742e737",
   "metadata": {},
   "outputs": [
    {
     "name": "stdout",
     "output_type": "stream",
     "text": [
      "{1, 2, 3, 4, 5, 6, 7}\n"
     ]
    }
   ],
   "source": [
    "my_list = [1,2,3,4,5,1,2,5,6,7]\n",
    "s1=set(my_list)\n",
    "print(s1)\n",
    "d = {}\n",
    "for i in s1:\n",
    "    cn=my_list.count(i)\n",
    "    d[i]=cn\n",
    "    "
   ]
  },
  {
   "cell_type": "code",
   "execution_count": 14,
   "id": "bc564acc-c6eb-4aa7-aa31-e0f251d37d51",
   "metadata": {},
   "outputs": [
    {
     "data": {
      "text/plain": [
       "{1: 2, 2: 2, 3: 1, 4: 1, 5: 2, 6: 1, 7: 1}"
      ]
     },
     "execution_count": 14,
     "metadata": {},
     "output_type": "execute_result"
    }
   ],
   "source": [
    "d"
   ]
  },
  {
   "cell_type": "raw",
   "id": "f5f0170f-05e4-4949-b4b3-18de51ffd5d9",
   "metadata": {},
   "source": [
    "2. Find Common Elements: Given two lists, create a set that contains the common elements\n",
    "between them."
   ]
  },
  {
   "cell_type": "code",
   "execution_count": 15,
   "id": "8848b384-536c-4fa9-b395-3cd2d877116d",
   "metadata": {},
   "outputs": [
    {
     "data": {
      "text/plain": [
       "{1, 2, 3}"
      ]
     },
     "execution_count": 15,
     "metadata": {},
     "output_type": "execute_result"
    }
   ],
   "source": [
    "l1 = [1,2,3,4,5]\n",
    "l2 = [1,2,3]\n",
    "set(l1) & set(l2)"
   ]
  },
  {
   "cell_type": "raw",
   "id": "11806164-e34e-4cf7-b93e-6b1d6e727e5d",
   "metadata": {},
   "source": [
    "3. Invert a Dictionary: Given a dictionary, create a new dictionary that swaps keys and values."
   ]
  },
  {
   "cell_type": "code",
   "execution_count": 18,
   "id": "2dd1c9da-0715-4ee2-9406-1123d2d6682f",
   "metadata": {},
   "outputs": [],
   "source": [
    "d = {\"a\":1,\"b\":2,\"c\":3}\n",
    "new_key=  list(d.keys())\n",
    "new_val = list(d.values())\n",
    "new_d = {}\n",
    "for i in range(len(d)):\n",
    "    new_d[new_val[i]] = new_key[i]\n",
    "    \n",
    "    \n",
    "    "
   ]
  },
  {
   "cell_type": "code",
   "execution_count": 19,
   "id": "071553f1-58e0-4b9d-a8a8-2d2206341688",
   "metadata": {},
   "outputs": [
    {
     "data": {
      "text/plain": [
       "{1: 'a', 2: 'b', 3: 'c'}"
      ]
     },
     "execution_count": 19,
     "metadata": {},
     "output_type": "execute_result"
    }
   ],
   "source": [
    "new_d"
   ]
  },
  {
   "cell_type": "raw",
   "id": "4e8bdc4c-d07f-451e-b3ba-20d2ca0acacc",
   "metadata": {},
   "source": [
    " 4. Merge Two Dictionaries: Given two dictionaries, merge them into one. If a key exists in both, sum\n",
    "  their values."
   ]
  },
  {
   "cell_type": "code",
   "execution_count": 20,
   "id": "9af33f0d-1458-46da-9ae8-ec84a11f5a2c",
   "metadata": {},
   "outputs": [],
   "source": [
    "d1 = {\"a\":1,\"b\":2,\"c\":3}\n",
    "d2 = {\"a\":3,\"b\":3}\n",
    "d1.update(d2)\n"
   ]
  },
  {
   "cell_type": "code",
   "execution_count": 21,
   "id": "7768d643-3805-4ba3-b2f2-3aa2f64d815a",
   "metadata": {},
   "outputs": [
    {
     "data": {
      "text/plain": [
       "{'a': 3, 'b': 3, 'c': 3}"
      ]
     },
     "execution_count": 21,
     "metadata": {},
     "output_type": "execute_result"
    }
   ],
   "source": [
    "d1"
   ]
  },
  {
   "cell_type": "code",
   "execution_count": 22,
   "id": "58c88ba2-ddf7-447a-a0cb-428546a41329",
   "metadata": {},
   "outputs": [
    {
     "data": {
      "text/plain": [
       "{'a': 3, 'b': 3}"
      ]
     },
     "execution_count": 22,
     "metadata": {},
     "output_type": "execute_result"
    }
   ],
   "source": [
    "d2"
   ]
  },
  {
   "cell_type": "code",
   "execution_count": null,
   "id": "8fc04be7-5e94-49f8-b38f-2a4e592b753e",
   "metadata": {},
   "outputs": [],
   "source": [
    "#5. Remove Duplicates: Given a list, create a set to remove duplicates and convert it back to a list.\n",
    "l1 = [1,2,3,3,2,4,5]\n",
    "s = set(l1)\n",
    "l2 = list(s)\n",
    "l2"
   ]
  },
  {
   "cell_type": "code",
   "execution_count": null,
   "id": "bad48f35-e465-46d7-92b5-7d462b92200b",
   "metadata": {},
   "outputs": [],
   "source": [
    "#6. Check for Anagrams: Write logic to check if two strings are anagrams using a dictionary.\n",
    "s1 = \"abc\"\n",
    "s2 = \"cba\"\n",
    "l1 =list(range(1,4))\n"
   ]
  },
  {
   "cell_type": "raw",
   "id": "03772098-fe59-4d35-b993-b7e0ce51025a",
   "metadata": {},
   "source": [
    "7. Find the Maximum Value: Given a dictionary, find the key with the maximum value."
   ]
  },
  {
   "cell_type": "code",
   "execution_count": 3,
   "id": "49d16996-f342-44a8-8df4-88a333741d58",
   "metadata": {},
   "outputs": [
    {
     "data": {
      "text/plain": [
       "'b'"
      ]
     },
     "execution_count": 3,
     "metadata": {},
     "output_type": "execute_result"
    }
   ],
   "source": [
    "d = {\"a\":1,\"b\":31,\"c\":4}\n",
    "max(d,key = d.get)\n",
    "    "
   ]
  },
  {
   "cell_type": "raw",
   "id": "255bbf21-ddb0-4ce7-927d-fcb4f85a8160",
   "metadata": {},
   "source": [
    "8. Word Frequency: Given a sentence, create a dictionary that counts the frequency of each word."
   ]
  },
  {
   "cell_type": "code",
   "execution_count": 27,
   "id": "dd9c21d7-df4c-4994-a5e6-4a53024fc521",
   "metadata": {},
   "outputs": [
    {
     "data": {
      "text/plain": [
       "{'hello': 2, 'my': 1, 'name': 1, 'is': 1}"
      ]
     },
     "execution_count": 27,
     "metadata": {},
     "output_type": "execute_result"
    }
   ],
   "source": [
    "word = \"hello my name is hello\"\n",
    "l1 = word.split(\" \")\n",
    "new_dic = {}\n",
    "for i in l1:\n",
    "    new_dic[i] = word.count(i)\n",
    "    \n",
    "new_dic    "
   ]
  },
  {
   "cell_type": "raw",
   "id": "c9b64605-cd3c-4b72-9dfc-861c317feb98",
   "metadata": {},
   "source": [
    "9. Find Unique Characters: Given a string, create a set of unique characters."
   ]
  },
  {
   "cell_type": "code",
   "execution_count": 30,
   "id": "134a8d73-da46-4fcf-a2de-e19af1c0040c",
   "metadata": {},
   "outputs": [
    {
     "data": {
      "text/plain": [
       "{' ', 'a', 'h', 'i', 'l', 'n', 's'}"
      ]
     },
     "execution_count": 30,
     "metadata": {},
     "output_type": "execute_result"
    }
   ],
   "source": [
    "str = \"hasan ali\"\n",
    "lst = set(str)\n",
    "lst\n"
   ]
  },
  {
   "cell_type": "raw",
   "id": "4ecc83f3-c78f-4db6-8456-d0c262be2525",
   "metadata": {},
   "source": [
    "10. Create a Dictionary from Two Lists: Given two lists (keys and values), create a dictionary."
   ]
  },
  {
   "cell_type": "code",
   "execution_count": 4,
   "id": "aed10e9a-8430-47c2-bcb4-134e180ff20f",
   "metadata": {},
   "outputs": [
    {
     "name": "stdout",
     "output_type": "stream",
     "text": [
      "{1: 1, 2: 4, 3: 9, 4: 16}\n"
     ]
    }
   ],
   "source": [
    "l1 = [1,2,3,4]\n",
    "l2 = [1,4,9,16]\n",
    "print(dict(zip(l1,l2)))\n"
   ]
  },
  {
   "cell_type": "code",
   "execution_count": null,
   "id": "3a3adf92-7604-4a2b-86ed-6f501239b57c",
   "metadata": {},
   "outputs": [],
   "source": [
    "#11. Count Vowels and Consonants: Given a string, create a dictionary that counts the number of\n",
    "#vowels and consonants."
   ]
  },
  {
   "cell_type": "code",
   "execution_count": null,
   "id": "bd7662cc-64b9-457d-b592-b7cd4c5de03b",
   "metadata": {},
   "outputs": [],
   "source": []
  },
  {
   "cell_type": "code",
   "execution_count": null,
   "id": "f9bcb434-f41f-4cf5-96c4-25b99e705091",
   "metadata": {},
   "outputs": [],
   "source": [
    "#13. Find the Intersection of Two Sets: Given two sets, find their intersection.\n",
    "s1 = {1,2,3,4}\n",
    "s2 = {2,4,6,8}\n",
    "s1 & s2"
   ]
  },
  {
   "cell_type": "code",
   "execution_count": 34,
   "id": "0012ab2d-30eb-4ccd-aa9a-9f2c9707cf40",
   "metadata": {},
   "outputs": [
    {
     "data": {
      "text/plain": [
       "{1, 4, 9, 16, 25, 36, 49, 64, 81, 100}"
      ]
     },
     "execution_count": 34,
     "metadata": {},
     "output_type": "execute_result"
    }
   ],
   "source": [
    "#14. Create a Set of Square Numbers: Given a list of numbers, create a set containing their squares\n",
    "l1 = [1,2,3,4,5,6,7,8,9,10]\n",
    "l2 = [i**2  for i in l1]\n",
    "\n",
    "s = set(l2)\n",
    "s"
   ]
  },
  {
   "cell_type": "raw",
   "id": "d98141fa-cfe7-4701-a7e7-4ea83c00e813",
   "metadata": {},
   "source": [
    "#15. Count Character Frequency: Given a string, create a dictionary that counts the frequency of each\n",
    "# character\n",
    "ans-> it is already done "
   ]
  },
  {
   "cell_type": "code",
   "execution_count": 1,
   "id": "0292be3e-8993-44ec-8193-169284ea04fc",
   "metadata": {},
   "outputs": [
    {
     "data": {
      "text/plain": [
       "True"
      ]
     },
     "execution_count": 1,
     "metadata": {},
     "output_type": "execute_result"
    }
   ],
   "source": [
    "# 16 Check Subset: Given two sets, check if one is a subset of the other.\n",
    "s1 = {1,2,3,4}\n",
    "s2 = {1,2,3,4,5,6,7}\n",
    "# s1.issubset(s2)\n",
    "len(s1 - s2 ) == 0"
   ]
  },
  {
   "cell_type": "code",
   "execution_count": 8,
   "id": "f45b827e-76e4-4f64-aac2-57d486cc94e1",
   "metadata": {},
   "outputs": [
    {
     "data": {
      "text/plain": [
       "{}"
      ]
     },
     "execution_count": 8,
     "metadata": {},
     "output_type": "execute_result"
    }
   ],
   "source": [
    "# 17. Remove Key from Dictionary: Given a dictionary and a key, remove the key if it exists.\n",
    "d = {\"a\":1,\"b\":2}\n",
    "del d[\"a\"]\n",
    "d\n",
    "d.pop(\"b\")\n",
    "d"
   ]
  },
  {
   "cell_type": "code",
   "execution_count": 9,
   "id": "ffdfded7-df2f-40ec-a75d-fc51b3907ca5",
   "metadata": {},
   "outputs": [
    {
     "ename": "KeyError",
     "evalue": "'b'",
     "output_type": "error",
     "traceback": [
      "\u001b[1;31m---------------------------------------------------------------------------\u001b[0m",
      "\u001b[1;31mKeyError\u001b[0m                                  Traceback (most recent call last)",
      "Cell \u001b[1;32mIn[9], line 1\u001b[0m\n\u001b[1;32m----> 1\u001b[0m d\u001b[38;5;241m.\u001b[39mpop(\u001b[38;5;124m\"\u001b[39m\u001b[38;5;124mb\u001b[39m\u001b[38;5;124m\"\u001b[39m)\n\u001b[0;32m      2\u001b[0m d\n",
      "\u001b[1;31mKeyError\u001b[0m: 'b'"
     ]
    }
   ],
   "source": []
  },
  {
   "cell_type": "code",
   "execution_count": 3,
   "id": "60903d6c-e0dd-41bb-8c52-f50a54668bfa",
   "metadata": {},
   "outputs": [
    {
     "data": {
      "text/plain": [
       "['b', 'c', 'd']"
      ]
     },
     "execution_count": 3,
     "metadata": {},
     "output_type": "execute_result"
    }
   ],
   "source": [
    "#18. Find Values Greater than N: Given a dictionary and a number N, create a list of keys with values\n",
    "#greater than N.\n",
    "n = 5\n",
    "d = {\"a\":3,\"b\":6,\"c\":5,\"d\":8}\n",
    "l1 = []\n",
    "for i  in d.items():\n",
    "    if i[1] > 3:\n",
    "        l1.append(i[0])\n",
    "l1        "
   ]
  },
  {
   "cell_type": "code",
   "execution_count": 4,
   "id": "f3f155e7-901e-4f1d-a26a-b58e9c12c510",
   "metadata": {},
   "outputs": [
    {
     "data": {
      "text/plain": [
       "{'a': 1, 'b': 2, 'c': 3}"
      ]
     },
     "execution_count": 4,
     "metadata": {},
     "output_type": "execute_result"
    }
   ],
   "source": [
    "# 19. Create a Dictionary from a List of Tuples: Given a list of tuples, create a dictionary from them.\n",
    "lst_of_tup = [(\"a\",1),(\"b\",2),(\"c\",3)]\n",
    "dict(lst_of_tup)"
   ]
  },
  {
   "cell_type": "code",
   "execution_count": 15,
   "id": "28b8ed45-e592-446a-a0cd-e35a08bd9fa3",
   "metadata": {},
   "outputs": [
    {
     "data": {
      "text/plain": [
       "{0: 1, 1: 2, 2: 3, 3: 4}"
      ]
     },
     "execution_count": 15,
     "metadata": {},
     "output_type": "execute_result"
    }
   ],
   "source": [
    "# 20. Find the Most Frequent Element: Given a list, find the most frequent element using a dictionary.\n",
    "l1 = [1,2,3,4,4,5,3,2,1,4,5,6]\n",
    "d ={}\n",
    "for i,j in enumerate(l1):\n",
    "    \n",
    "\n",
    "\n"
   ]
  },
  {
   "cell_type": "raw",
   "id": "c30d7941-1307-42ed-9693-0aef92076f0c",
   "metadata": {},
   "source": [
    "Pending Questiion\n",
    "11\n",
    "12\n",
    "20"
   ]
  },
  {
   "cell_type": "code",
   "execution_count": 18,
   "id": "fb6f37f0-7a3e-4f24-a75f-8a1391b01f4c",
   "metadata": {},
   "outputs": [
    {
     "name": "stdout",
     "output_type": "stream",
     "text": [
      "c\n"
     ]
    }
   ],
   "source": [
    "my_list = {\"a\":2,\"b\":4,\"c\":40}\n",
    "frq=max(my_list,key=my_list.get)\n",
    "print(frq)"
   ]
  },
  {
   "cell_type": "code",
   "execution_count": 1,
   "id": "04709f49-2d1d-44d5-98e3-ed68477f5b9a",
   "metadata": {},
   "outputs": [
    {
     "name": "stdout",
     "output_type": "stream",
     "text": [
      "hasan\n"
     ]
    }
   ],
   "source": [
    "print(\"hasan\")"
   ]
  },
  {
   "cell_type": "code",
   "execution_count": 4,
   "id": "4681e615-81e5-432c-8dda-f9fd7134b399",
   "metadata": {},
   "outputs": [
    {
     "name": "stdin",
     "output_type": "stream",
     "text": [
      " 3\n",
      " 2\n"
     ]
    },
    {
     "name": "stdout",
     "output_type": "stream",
     "text": [
      "2\n"
     ]
    }
   ],
   "source": [
    "n = int(input())\n",
    "arr = map(int, input().split())\n",
    "for i in arr:\n",
    "    print(i)"
   ]
  },
  {
   "cell_type": "code",
   "execution_count": null,
   "id": "686bc62c-79cb-41dc-a9c0-885507f2f481",
   "metadata": {},
   "outputs": [],
   "source": []
  }
 ],
 "metadata": {
  "kernelspec": {
   "display_name": "Python 3 (ipykernel)",
   "language": "python",
   "name": "python3"
  },
  "language_info": {
   "codemirror_mode": {
    "name": "ipython",
    "version": 3
   },
   "file_extension": ".py",
   "mimetype": "text/x-python",
   "name": "python",
   "nbconvert_exporter": "python",
   "pygments_lexer": "ipython3",
   "version": "3.11.7"
  }
 },
 "nbformat": 4,
 "nbformat_minor": 5
}
